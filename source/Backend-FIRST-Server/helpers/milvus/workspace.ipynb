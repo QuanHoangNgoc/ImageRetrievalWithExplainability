{
 "cells": [
  {
   "cell_type": "code",
   "execution_count": null,
   "metadata": {},
   "outputs": [],
   "source": [
    "import pickle \n",
    "\n",
    "import numpy as np\n",
    "\n",
    "from milvus import Milvus, IndexType, MetricType, Status"
   ]
  },
  {
   "cell_type": "code",
   "execution_count": null,
   "metadata": {},
   "outputs": [],
   "source": [
    "client = Milvus(host='localhost', port='19530')\n",
    "collection_name = \"VBS_full\"\n",
    "status, ok = client.has_collection(collection_name)\n",
    "\n",
    "if ok:\n",
    "    print(f\"Collection {collection_name} already exists! Drop collection to re-create.\")\n",
    "#     return\n",
    "else:\n",
    "    client.create_collection({\n",
    "        \"collection_name\": collection_name,\n",
    "        \"dimension\": 768,\n",
    "        \"index_file_size\": 2048,\n",
    "        \"metric_type\": MetricType.L2,\n",
    "    })\n",
    "\n",
    "_, collections = client.list_collections()\n",
    "\n",
    "_, collection = client.get_collection_info(collection_name)\n",
    "print(collection)"
   ]
  },
  {
   "cell_type": "code",
   "execution_count": 81,
   "metadata": {},
   "outputs": [
    {
     "name": "stdout",
     "output_type": "stream",
     "text": [
      "Status(code=0, message='Delete collection successfully!')\n"
     ]
    }
   ],
   "source": [
    "# status = client.drop_collection(collection_name)\n",
    "# print(status)"
   ]
  },
  {
   "cell_type": "code",
   "execution_count": 83,
   "metadata": {},
   "outputs": [],
   "source": [
    "with open(\"/home/vbs2/vbs/L14_336_features_128.pkl\", \"rb\") as f:\n",
    "    data = pickle.load(f)"
   ]
  },
  {
   "cell_type": "code",
   "execution_count": 84,
   "metadata": {},
   "outputs": [],
   "source": [
    "features_list = list(sorted(list(data.items()), key=lambda pair: pair[0]))"
   ]
  },
  {
   "cell_type": "code",
   "execution_count": 85,
   "metadata": {},
   "outputs": [
    {
     "name": "stdout",
     "output_type": "stream",
     "text": [
      "(2508110, 768)\n"
     ]
    }
   ],
   "source": [
    "image_list, vectors = zip(*features_list)\n",
    "vectors = np.array(list(vectors), dtype=np.float32)\n",
    "print(vectors.shape)"
   ]
  },
  {
   "cell_type": "code",
   "execution_count": 141,
   "metadata": {},
   "outputs": [
    {
     "data": {
      "text/plain": [
       "1.0"
      ]
     },
     "execution_count": 141,
     "metadata": {},
     "output_type": "execute_result"
    }
   ],
   "source": [
    "np.linalg.norm(vectors[230] / np.linalg.norm(vectors[230]))"
   ]
  },
  {
   "cell_type": "code",
   "execution_count": 86,
   "metadata": {},
   "outputs": [],
   "source": [
    "with open(\"/home/vbs2/vbs/FIRST-Server/helpers/first/keyframes_list.txt\") as f:\n",
    "    images = [line.strip() for line in f]\n",
    "\n",
    "assert list(image_list) == images"
   ]
  },
  {
   "cell_type": "code",
   "execution_count": 88,
   "metadata": {},
   "outputs": [
    {
     "name": "stdout",
     "output_type": "stream",
     "text": [
      "CPU times: user 2min 50s, sys: 4.61 s, total: 2min 54s\n",
      "Wall time: 10min 33s\n"
     ]
    }
   ],
   "source": [
    "%%time\n",
    "# Insert by batch since milvus only support 256MB inserts at a time\n",
    "n = vectors.shape[0]\n",
    "bs = n // 256\n",
    "all_ids = []\n",
    "\n",
    "for i in range(0, n, bs):\n",
    "    batch = vectors[i:i+bs]\n",
    "    status, batch_ids = client.insert(collection_name=collection_name, records=batch.astype(np.float32))\n",
    "    while not status.OK():\n",
    "        status, batch_ids = client.insert(collection_name=collection_name, records=batch.astype(np.float32))\n",
    "    all_ids.extend(batch_ids)"
   ]
  },
  {
   "cell_type": "code",
   "execution_count": 128,
   "metadata": {},
   "outputs": [],
   "source": [
    "with open(\"/home/vbs2/vbs/FIRST-Server/helpers/first/milvus_ids.txt\", 'w') as f:\n",
    "    print(*all_ids, sep='\\n', file=f)"
   ]
  },
  {
   "cell_type": "code",
   "execution_count": null,
   "metadata": {},
   "outputs": [],
   "source": [
    "status, stats = client.get_collection_stats(collection_name)\n",
    "print(stats)"
   ]
  },
  {
   "cell_type": "code",
   "execution_count": 89,
   "metadata": {},
   "outputs": [
    {
     "name": "stdout",
     "output_type": "stream",
     "text": [
      "CPU times: user 1.17 s, sys: 92.8 ms, total: 1.26 s\n",
      "Wall time: 25min 26s\n"
     ]
    },
    {
     "data": {
      "text/plain": [
       "Status(code=0, message='Build index successfully!')"
      ]
     },
     "execution_count": 89,
     "metadata": {},
     "output_type": "execute_result"
    }
   ],
   "source": [
    "%%time\n",
    "client.create_index(collection_name, IndexType.IVF_FLAT, params={\"nlist\": 2048})"
   ]
  },
  {
   "cell_type": "code",
   "execution_count": 4,
   "metadata": {},
   "outputs": [
    {
     "name": "stdout",
     "output_type": "stream",
     "text": [
      "(collection_name='VBS_full', index_type=<IndexType: IVF_FLAT>, params={'nlist': 2048})\n"
     ]
    }
   ],
   "source": [
    "status, index = client.get_index_info(collection_name)\n",
    "print(index)"
   ]
  },
  {
   "cell_type": "code",
   "execution_count": 124,
   "metadata": {},
   "outputs": [
    {
     "name": "stdout",
     "output_type": "stream",
     "text": [
      "(1, 2000)\n",
      "CPU times: user 3.64 ms, sys: 0 ns, total: 3.64 ms\n",
      "Wall time: 148 ms\n"
     ]
    }
   ],
   "source": [
    "%%time\n",
    "search_param = {\n",
    "    \"nprobe\": 1024\n",
    "}\n",
    "\n",
    "\n",
    "param = {\n",
    "    'collection_name': collection_name,\n",
    "    'query_records': np.random.rand(1, 768).astype(np.float32),\n",
    "    'top_k': 2000,\n",
    "    'params': search_param,\n",
    "}\n",
    "\n",
    "status, results = client.search(**param)\n",
    "if status.OK():\n",
    "    print(results.shape)"
   ]
  }
 ],
 "metadata": {
  "kernelspec": {
   "display_name": "Python 3 (ipykernel)",
   "language": "python",
   "name": "python3"
  },
  "language_info": {
   "codemirror_mode": {
    "name": "ipython",
    "version": 3
   },
   "file_extension": ".py",
   "mimetype": "text/x-python",
   "name": "python",
   "nbconvert_exporter": "python",
   "pygments_lexer": "ipython3",
   "version": "3.10.4"
  }
 },
 "nbformat": 4,
 "nbformat_minor": 2
}
