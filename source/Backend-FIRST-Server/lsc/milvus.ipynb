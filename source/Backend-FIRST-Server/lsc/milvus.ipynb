{
 "cells": [
  {
   "cell_type": "code",
   "execution_count": 1,
   "metadata": {},
   "outputs": [],
   "source": [
    "import pickle \n",
    "from pathlib import Path\n",
    "\n",
    "import numpy as np\n",
    "\n",
    "from milvus import Milvus, IndexType, MetricType, Status"
   ]
  },
  {
   "cell_type": "code",
   "execution_count": 2,
   "metadata": {},
   "outputs": [
    {
     "name": "stdout",
     "output_type": "stream",
     "text": [
      "Collection LSC_full already exists! Drop collection to re-create.\n",
      "CollectionSchema(collection_name='LSC_full', dimension=768, index_file_size=2048, metric_type=<MetricType: L2>)\n"
     ]
    }
   ],
   "source": [
    "client = Milvus(host='localhost', port='19530')\n",
    "collection_name = \"LSC_full\"\n",
    "status, ok = client.has_collection(collection_name)\n",
    "\n",
    "if ok:\n",
    "    print(f\"Collection {collection_name} already exists! Drop collection to re-create.\")\n",
    "#     return\n",
    "else:\n",
    "    client.create_collection({\n",
    "        \"collection_name\": collection_name,\n",
    "        \"dimension\": 768,\n",
    "        \"index_file_size\": 2048,\n",
    "        \"metric_type\": MetricType.L2,\n",
    "    })\n",
    "\n",
    "_, collections = client.list_collections()\n",
    "\n",
    "_, collection = client.get_collection_info(collection_name)\n",
    "print(collection)"
   ]
  },
  {
   "cell_type": "code",
   "execution_count": 16,
   "metadata": {},
   "outputs": [
    {
     "name": "stdout",
     "output_type": "stream",
     "text": [
      "Status(code=0, message='Delete collection successfully!')\n"
     ]
    }
   ],
   "source": [
    "# status = client.drop_collection(collection_name)\n",
    "# print(status)"
   ]
  },
  {
   "cell_type": "code",
   "execution_count": 10,
   "metadata": {},
   "outputs": [],
   "source": [
    "with open(\"/home/vbs2/lsc/L14_336_features_128.pkl\", \"rb\") as f:\n",
    "    data = pickle.load(f)"
   ]
  },
  {
   "cell_type": "code",
   "execution_count": 7,
   "metadata": {},
   "outputs": [
    {
     "name": "stdout",
     "output_type": "stream",
     "text": [
      "724443\n"
     ]
    }
   ],
   "source": [
    "name_to_paths = {}\n",
    "for yearmonth in Path(\"/home/vbs2/lsc/extracted\").iterdir():\n",
    "    for day in yearmonth.iterdir():\n",
    "        if not day.is_dir(): continue\n",
    "        name_to_paths.update({\n",
    "            path.name: path for path in day.iterdir() if path.suffix == \".jpg\"\n",
    "        })\n",
    "print(len(name_to_paths))"
   ]
  },
  {
   "cell_type": "code",
   "execution_count": 29,
   "metadata": {},
   "outputs": [],
   "source": [
    "name_2000 = {\n",
    "    name.split('.')[0]: path for name, path in name_to_paths.items() if name.startswith(\"2000\")\n",
    "}\n",
    "with open(\"path_correction.txt\", 'w') as f:\n",
    "    for k, v in name_2000.items():\n",
    "        print(k, v, file=f)"
   ]
  },
  {
   "cell_type": "code",
   "execution_count": 21,
   "metadata": {},
   "outputs": [],
   "source": [
    "image_list = [name.split('.')[0] for name in sorted(name_to_paths.keys())]\n",
    "with open(\"image_list_full.txt\", 'w') as f:\n",
    "    print(*image_list, sep='\\n', file=f)"
   ]
  },
  {
   "cell_type": "code",
   "execution_count": 12,
   "metadata": {},
   "outputs": [],
   "source": [
    "features_list = [\n",
    "    (x[0].split('.')[0], x[1]) for x in data.items() if x[0] in name_to_paths\n",
    "]\n",
    "\n",
    "features_list.sort(key=lambda x: x[0])"
   ]
  },
  {
   "cell_type": "code",
   "execution_count": 13,
   "metadata": {},
   "outputs": [
    {
     "name": "stdout",
     "output_type": "stream",
     "text": [
      "(724443, 768)\n"
     ]
    }
   ],
   "source": [
    "feature_name_list, vectors = zip(*features_list)\n",
    "vectors = np.array(list(vectors), dtype=np.float32)\n",
    "print(vectors.shape)"
   ]
  },
  {
   "cell_type": "code",
   "execution_count": 22,
   "metadata": {},
   "outputs": [
    {
     "data": {
      "text/plain": [
       "0.99999994"
      ]
     },
     "execution_count": 22,
     "metadata": {},
     "output_type": "execute_result"
    }
   ],
   "source": [
    "assert list(feature_name_list) == image_list\n",
    "np.linalg.norm(vectors[230] / np.linalg.norm(vectors[230]))"
   ]
  },
  {
   "cell_type": "code",
   "execution_count": 16,
   "metadata": {},
   "outputs": [
    {
     "data": {
      "application/vnd.jupyter.widget-view+json": {
       "model_id": "87543eb3e8954988a05e858992ed51cf",
       "version_major": 2,
       "version_minor": 0
      },
      "text/plain": [
       "  0%|          | 0/257 [00:00<?, ?it/s]"
      ]
     },
     "metadata": {},
     "output_type": "display_data"
    }
   ],
   "source": [
    "from tqdm.notebook import tqdm\n",
    "# Insert by batch since milvus only support 256MB inserts at a time\n",
    "n = vectors.shape[0]\n",
    "bs = n // 256\n",
    "all_ids = []\n",
    "\n",
    "for i in tqdm(range(0, n, bs)):\n",
    "    batch = vectors[i:i+bs]\n",
    "    status, batch_ids = client.insert(collection_name=collection_name, records=batch.astype(np.float32))\n",
    "    while not status.OK():\n",
    "        status, batch_ids = client.insert(collection_name=collection_name, records=batch.astype(np.float32))\n",
    "    all_ids.extend(batch_ids)"
   ]
  },
  {
   "cell_type": "code",
   "execution_count": 17,
   "metadata": {},
   "outputs": [],
   "source": [
    "with open(\"milvus_ids_full.txt\", 'w') as f:\n",
    "    print(*all_ids, sep='\\n', file=f)"
   ]
  },
  {
   "cell_type": "code",
   "execution_count": 19,
   "metadata": {},
   "outputs": [
    {
     "name": "stdout",
     "output_type": "stream",
     "text": [
      "{'partitions': [{'row_count': 724443, 'segments': [{'data_size': 1389283280, 'index_name': 'IDMAP', 'name': '1656254268313068000', 'row_count': 451066}, {'data_size': 14543760, 'index_name': 'IDMAP', 'name': '1656254320775117000', 'row_count': 4722}, {'data_size': 123643520, 'index_name': 'IDMAP', 'name': '1656254339850177000', 'row_count': 40144}, {'data_size': 703813880, 'index_name': 'IDMAP', 'name': '1656254342851931000', 'row_count': 228511}], 'tag': '_default'}], 'row_count': 724443}\n"
     ]
    }
   ],
   "source": [
    "status, stats = client.get_collection_stats(collection_name)\n",
    "print(stats)"
   ]
  },
  {
   "cell_type": "code",
   "execution_count": 89,
   "metadata": {},
   "outputs": [
    {
     "name": "stdout",
     "output_type": "stream",
     "text": [
      "CPU times: user 1.17 s, sys: 92.8 ms, total: 1.26 s\n",
      "Wall time: 25min 26s\n"
     ]
    },
    {
     "data": {
      "text/plain": [
       "Status(code=0, message='Build index successfully!')"
      ]
     },
     "execution_count": 89,
     "metadata": {},
     "output_type": "execute_result"
    }
   ],
   "source": [
    "%%time\n",
    "client.create_index(collection_name, IndexType.IVF_FLAT, params={\"nlist\": 2048})"
   ]
  },
  {
   "cell_type": "code",
   "execution_count": 23,
   "metadata": {},
   "outputs": [
    {
     "name": "stdout",
     "output_type": "stream",
     "text": [
      "(collection_name='LSC_full', index_type=<IndexType: FLAT>, params={})\n"
     ]
    }
   ],
   "source": [
    "status, index = client.get_index_info(collection_name)\n",
    "print(index)"
   ]
  },
  {
   "cell_type": "code",
   "execution_count": 14,
   "metadata": {},
   "outputs": [
    {
     "name": "stdout",
     "output_type": "stream",
     "text": [
      "(1, 4000)\n",
      "CPU times: user 3.9 ms, sys: 4.78 ms, total: 8.68 ms\n",
      "Wall time: 69.9 ms\n"
     ]
    }
   ],
   "source": [
    "%%time\n",
    "search_param = {\n",
    "    \"nprobe\": 1024\n",
    "}\n",
    "\n",
    "\n",
    "param = {\n",
    "    'collection_name': collection_name,\n",
    "    'query_records': np.random.rand(1, 768).astype(np.float32),\n",
    "    'top_k': 4000,\n",
    "    'params': search_param,\n",
    "}\n",
    "\n",
    "status, results = client.search(**param)\n",
    "if status.OK():\n",
    "    print(results.shape)"
   ]
  }
 ],
 "metadata": {
  "kernelspec": {
   "display_name": "Python 3.10.4 ('milvus')",
   "language": "python",
   "name": "python3"
  },
  "language_info": {
   "codemirror_mode": {
    "name": "ipython",
    "version": 3
   },
   "file_extension": ".py",
   "mimetype": "text/x-python",
   "name": "python",
   "nbconvert_exporter": "python",
   "pygments_lexer": "ipython3",
   "version": "3.10.4"
  },
  "vscode": {
   "interpreter": {
    "hash": "6acae5176c29dc4f4729d2ff79bb38d5932fe58e6a090f9e5eb542ec3ef9d0e6"
   }
  }
 },
 "nbformat": 4,
 "nbformat_minor": 2
}
